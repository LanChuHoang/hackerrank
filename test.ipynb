{
 "cells": [
  {
   "cell_type": "code",
   "execution_count": 61,
   "metadata": {},
   "outputs": [],
   "source": [
    "class MaxHeap:\n",
    "    def __init__(self, original_list: list) -> None:\n",
    "        self.heap = original_list\n",
    "        self.org_index_to_heap_index = dict()\n",
    "        self.heap_index_to_org_index = dict()\n",
    "        self.build()\n",
    "\n",
    "    def __str__(self) -> str:\n",
    "        return (\n",
    "            self.heap.__str__()\n",
    "            # + \" \"\n",
    "            # + self.org_index_to_heap_index.__str__()\n",
    "            # + \" \"\n",
    "            # + self.heap_index_to_org_index.__str__()\n",
    "        )\n",
    "\n",
    "    def swap(self, index1: int, index2: int):\n",
    "        temp = self.heap[index1]\n",
    "        self.heap[index1] = self.heap[index2]\n",
    "        self.heap[index2] = temp\n",
    "\n",
    "        org_index1 = self.heap_index_to_org_index[index1]\n",
    "        org_index2 = self.heap_index_to_org_index[index2]\n",
    "\n",
    "        self.heap_index_to_org_index[index1] = org_index2\n",
    "        self.heap_index_to_org_index[index2] = org_index1\n",
    "\n",
    "        self.org_index_to_heap_index[org_index1] = index2\n",
    "        self.org_index_to_heap_index[org_index2] = index1\n",
    "\n",
    "    def heapify_up(self, index: str):\n",
    "        left_child_index = index * 2 + 1\n",
    "        right_child_index = index * 2 + 2\n",
    "\n",
    "        if left_child_index < len(self.heap):\n",
    "            greater_child_index = left_child_index\n",
    "\n",
    "            if (\n",
    "                right_child_index < len(self.heap)\n",
    "                and self.heap[right_child_index] > self.heap[left_child_index]\n",
    "            ):\n",
    "                greater_child_index = right_child_index\n",
    "\n",
    "            if self.heap[greater_child_index] > self.heap[index]:\n",
    "                self.swap(greater_child_index, index)\n",
    "\n",
    "    def heapify_down(self):\n",
    "        pass\n",
    "\n",
    "    def build(self) -> None:\n",
    "        for i in range(len(self.heap)):\n",
    "            self.org_index_to_heap_index[i] = i\n",
    "            self.heap_index_to_org_index[i] = i\n",
    "        n = len(self.heap)\n",
    "        for i in reversed(range(n // 2)):\n",
    "            self.heapify_up(i)\n",
    "\n",
    "    def push(self, item):\n",
    "        pass\n",
    "      \n",
    "    def pop(self):\n",
    "        pass\n",
    "      \n",
    "    def remove(self, index: int):\n",
    "        pass\n",
    "\n",
    "    def remove_by_index(self, org_index: int):\n",
    "        heap_index = self.org_index_to_heap_index.get(org_index)\n",
    "        if heap_index is not None:\n",
    "          self.remove(heap_index)"
   ]
  },
  {
   "cell_type": "code",
   "execution_count": 63,
   "metadata": {},
   "outputs": [
    {
     "name": "stdout",
     "output_type": "stream",
     "text": [
      "[6, 5, 1, 4, 2, 3]\n"
     ]
    }
   ],
   "source": [
    "max_heap = MaxHeap([1, 2, 3, 4, 5, 6])\n",
    "print(max_heap)"
   ]
  },
  {
   "cell_type": "code",
   "execution_count": 64,
   "metadata": {},
   "outputs": [
    {
     "data": {
      "text/plain": [
       "1"
      ]
     },
     "execution_count": 64,
     "metadata": {},
     "output_type": "execute_result"
    }
   ],
   "source": [
    "max_heap.get_by_index(0)"
   ]
  }
 ],
 "metadata": {
  "kernelspec": {
   "display_name": "main",
   "language": "python",
   "name": "python3"
  },
  "language_info": {
   "codemirror_mode": {
    "name": "ipython",
    "version": 3
   },
   "file_extension": ".py",
   "mimetype": "text/x-python",
   "name": "python",
   "nbconvert_exporter": "python",
   "pygments_lexer": "ipython3",
   "version": "3.11.5"
  }
 },
 "nbformat": 4,
 "nbformat_minor": 2
}
