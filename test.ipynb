{
 "cells": [
  {
   "cell_type": "code",
   "execution_count": 49,
   "metadata": {},
   "outputs": [],
   "source": [
    "class MaxHeap:\n",
    "    def __init__(self, original_list: list) -> None:\n",
    "        self.heap = original_list\n",
    "        self.org_index_to_heap_index = dict()\n",
    "        self.heap_index_to_org_index = dict()\n",
    "        self.build()\n",
    "\n",
    "    def __str__(self) -> str:\n",
    "        return (\n",
    "            self.heap.__str__()\n",
    "            # + \" \"\n",
    "            # + self.org_index_to_heap_index.__str__()\n",
    "            # + \" \"\n",
    "            # + self.heap_index_to_org_index.__str__()\n",
    "        )\n",
    "\n",
    "    def swap(self, index1: int, index2: int):\n",
    "        temp = self.heap[index1]\n",
    "        self.heap[index1] = self.heap[index2]\n",
    "        self.heap[index2] = temp\n",
    "\n",
    "        org_index1 = self.heap_index_to_org_index[index1]\n",
    "        org_index2 = self.heap_index_to_org_index[index2]\n",
    "\n",
    "        self.heap_index_to_org_index[index1] = org_index2\n",
    "        self.heap_index_to_org_index[index2] = org_index1\n",
    "\n",
    "        self.org_index_to_heap_index[org_index1] = index2\n",
    "        self.org_index_to_heap_index[org_index2] = index1\n",
    "\n",
    "    def heapify(self, index: str):\n",
    "        left_child_index = index * 2 + 1\n",
    "        right_child_index = index * 2 + 2\n",
    "\n",
    "        if left_child_index < len(self.heap):\n",
    "            greater_child_index = left_child_index\n",
    "\n",
    "            if (\n",
    "                right_child_index < len(self.heap)\n",
    "                and self.heap[right_child_index] > self.heap[left_child_index]\n",
    "            ):\n",
    "                greater_child_index = right_child_index\n",
    "\n",
    "            if self.heap[greater_child_index] > self.heap[index]:\n",
    "                self.swap(greater_child_index, index)\n",
    "                return greater_child_index, index\n",
    "        return None, None\n",
    "\n",
    "    def heapify_down(self, index: int):\n",
    "        i = index\n",
    "        while i is not None:\n",
    "            i, _ = self.heapify(i)\n",
    "\n",
    "    def heapify_up(self, index: int):\n",
    "        parent_idx = (index - 1) // 2\n",
    "        while parent_idx >= 0:\n",
    "            greater_child_index, _ = self.heapify(parent_idx)\n",
    "            if greater_child_index is None:\n",
    "                break\n",
    "            parent_idx = (parent_idx - 1) // 2\n",
    "\n",
    "    def build(self) -> None:\n",
    "        for i in range(len(self.heap)):\n",
    "            self.org_index_to_heap_index[i] = i\n",
    "            self.heap_index_to_org_index[i] = i\n",
    "        self.heapify_up(len(self.heap) - 1)\n",
    "\n",
    "    def push(self, item, org_index: int | None = None):\n",
    "        org_index = org_index if org_index is not None else len(self.heap)\n",
    "        heap_index = len(self.heap)\n",
    "        self.heap.append(item)\n",
    "        self.org_index_to_heap_index[org_index] = heap_index\n",
    "        self.heap_index_to_org_index[heap_index] = org_index\n",
    "        self.heapify_up(heap_index)\n",
    "\n",
    "    def pop(self):\n",
    "        return self.remove(0) if self.heap else None\n",
    "\n",
    "    def remove_last(self):\n",
    "        heap_index = len(self.heap) - 1\n",
    "        org_index = self.heap_index_to_org_index[heap_index]\n",
    "        del self.org_index_to_heap_index[org_index]\n",
    "        del self.heap_index_to_org_index[heap_index]\n",
    "        self.heap.pop()\n",
    "\n",
    "    def remove(self, index: int):\n",
    "        item = self.heap[index]\n",
    "        self.swap(index, len(self.heap) - 1)\n",
    "        self.remove_last()\n",
    "        self.heapify_down(index)\n",
    "        return item\n",
    "\n",
    "    def remove_by_index(self, org_index: int):\n",
    "        heap_index = self.org_index_to_heap_index.get(org_index)\n",
    "        if heap_index is not None:\n",
    "            self.remove(heap_index)\n",
    "\n",
    "    def top(self):\n",
    "        return self.heap[0] if self.heap else None"
   ]
  },
  {
   "cell_type": "code",
   "execution_count": 50,
   "metadata": {},
   "outputs": [],
   "source": [
    "arr = [1, 2, 3, 4, 3, 2, 1]"
   ]
  },
  {
   "cell_type": "code",
   "execution_count": 51,
   "metadata": {},
   "outputs": [
    {
     "name": "stdout",
     "output_type": "stream",
     "text": [
      "[3, 2, 1]\n"
     ]
    }
   ],
   "source": []
  },
  {
   "cell_type": "code",
   "execution_count": 53,
   "metadata": {},
   "outputs": [
    {
     "name": "stdout",
     "output_type": "stream",
     "text": [
      "[3, 4, 4, 4, 3]\n"
     ]
    }
   ],
   "source": [
    "start, end = 0, 2\n",
    "max_heap = MaxHeap(arr[start:end+1])\n",
    "result = []\n",
    "while True:\n",
    "    max_window = max_heap.top()\n",
    "    result.append(max_window)\n",
    "\n",
    "    max_heap.remove_by_index(start)\n",
    "    start += 1\n",
    "\n",
    "    end += 1\n",
    "    if end >= len(arr):\n",
    "        break\n",
    "\n",
    "    max_heap.push(arr[end], end)\n",
    "\n",
    "print(result)"
   ]
  }
 ],
 "metadata": {
  "kernelspec": {
   "display_name": "main",
   "language": "python",
   "name": "python3"
  },
  "language_info": {
   "codemirror_mode": {
    "name": "ipython",
    "version": 3
   },
   "file_extension": ".py",
   "mimetype": "text/x-python",
   "name": "python",
   "nbconvert_exporter": "python",
   "pygments_lexer": "ipython3",
   "version": "3.11.8"
  }
 },
 "nbformat": 4,
 "nbformat_minor": 2
}
